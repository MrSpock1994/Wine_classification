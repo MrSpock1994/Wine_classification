{
 "cells": [
  {
   "cell_type": "code",
   "execution_count": 1,
   "id": "87b1d8e3",
   "metadata": {},
   "outputs": [],
   "source": [
    "import pandas as pd\n",
    "import matplotlib.pyplot as plt\n",
    "import numpy as np"
   ]
  },
  {
   "cell_type": "code",
   "execution_count": 2,
   "id": "9ebda899",
   "metadata": {},
   "outputs": [],
   "source": [
    "wine = pd.read_csv(\"WineQT.csv\")"
   ]
  },
  {
   "cell_type": "code",
   "execution_count": 3,
   "id": "535bbc3b",
   "metadata": {},
   "outputs": [],
   "source": [
    "wine.drop(\"Id\", axis = 1, inplace = True)"
   ]
  },
  {
   "cell_type": "code",
   "execution_count": 4,
   "id": "207ea9eb",
   "metadata": {},
   "outputs": [
    {
     "data": {
      "text/html": [
       "<div>\n",
       "<style scoped>\n",
       "    .dataframe tbody tr th:only-of-type {\n",
       "        vertical-align: middle;\n",
       "    }\n",
       "\n",
       "    .dataframe tbody tr th {\n",
       "        vertical-align: top;\n",
       "    }\n",
       "\n",
       "    .dataframe thead th {\n",
       "        text-align: right;\n",
       "    }\n",
       "</style>\n",
       "<table border=\"1\" class=\"dataframe\">\n",
       "  <thead>\n",
       "    <tr style=\"text-align: right;\">\n",
       "      <th></th>\n",
       "      <th>fixed acidity</th>\n",
       "      <th>volatile acidity</th>\n",
       "      <th>citric acid</th>\n",
       "      <th>residual sugar</th>\n",
       "      <th>chlorides</th>\n",
       "      <th>free sulfur dioxide</th>\n",
       "      <th>total sulfur dioxide</th>\n",
       "      <th>density</th>\n",
       "      <th>pH</th>\n",
       "      <th>sulphates</th>\n",
       "      <th>alcohol</th>\n",
       "      <th>quality</th>\n",
       "    </tr>\n",
       "  </thead>\n",
       "  <tbody>\n",
       "    <tr>\n",
       "      <th>0</th>\n",
       "      <td>7.4</td>\n",
       "      <td>0.70</td>\n",
       "      <td>0.00</td>\n",
       "      <td>1.9</td>\n",
       "      <td>0.076</td>\n",
       "      <td>11.0</td>\n",
       "      <td>34.0</td>\n",
       "      <td>0.9978</td>\n",
       "      <td>3.51</td>\n",
       "      <td>0.56</td>\n",
       "      <td>9.4</td>\n",
       "      <td>5</td>\n",
       "    </tr>\n",
       "    <tr>\n",
       "      <th>1</th>\n",
       "      <td>7.8</td>\n",
       "      <td>0.88</td>\n",
       "      <td>0.00</td>\n",
       "      <td>2.6</td>\n",
       "      <td>0.098</td>\n",
       "      <td>25.0</td>\n",
       "      <td>67.0</td>\n",
       "      <td>0.9968</td>\n",
       "      <td>3.20</td>\n",
       "      <td>0.68</td>\n",
       "      <td>9.8</td>\n",
       "      <td>5</td>\n",
       "    </tr>\n",
       "    <tr>\n",
       "      <th>2</th>\n",
       "      <td>7.8</td>\n",
       "      <td>0.76</td>\n",
       "      <td>0.04</td>\n",
       "      <td>2.3</td>\n",
       "      <td>0.092</td>\n",
       "      <td>15.0</td>\n",
       "      <td>54.0</td>\n",
       "      <td>0.9970</td>\n",
       "      <td>3.26</td>\n",
       "      <td>0.65</td>\n",
       "      <td>9.8</td>\n",
       "      <td>5</td>\n",
       "    </tr>\n",
       "    <tr>\n",
       "      <th>3</th>\n",
       "      <td>11.2</td>\n",
       "      <td>0.28</td>\n",
       "      <td>0.56</td>\n",
       "      <td>1.9</td>\n",
       "      <td>0.075</td>\n",
       "      <td>17.0</td>\n",
       "      <td>60.0</td>\n",
       "      <td>0.9980</td>\n",
       "      <td>3.16</td>\n",
       "      <td>0.58</td>\n",
       "      <td>9.8</td>\n",
       "      <td>6</td>\n",
       "    </tr>\n",
       "    <tr>\n",
       "      <th>4</th>\n",
       "      <td>7.4</td>\n",
       "      <td>0.70</td>\n",
       "      <td>0.00</td>\n",
       "      <td>1.9</td>\n",
       "      <td>0.076</td>\n",
       "      <td>11.0</td>\n",
       "      <td>34.0</td>\n",
       "      <td>0.9978</td>\n",
       "      <td>3.51</td>\n",
       "      <td>0.56</td>\n",
       "      <td>9.4</td>\n",
       "      <td>5</td>\n",
       "    </tr>\n",
       "  </tbody>\n",
       "</table>\n",
       "</div>"
      ],
      "text/plain": [
       "   fixed acidity  volatile acidity  citric acid  residual sugar  chlorides  \\\n",
       "0            7.4              0.70         0.00             1.9      0.076   \n",
       "1            7.8              0.88         0.00             2.6      0.098   \n",
       "2            7.8              0.76         0.04             2.3      0.092   \n",
       "3           11.2              0.28         0.56             1.9      0.075   \n",
       "4            7.4              0.70         0.00             1.9      0.076   \n",
       "\n",
       "   free sulfur dioxide  total sulfur dioxide  density    pH  sulphates  \\\n",
       "0                 11.0                  34.0   0.9978  3.51       0.56   \n",
       "1                 25.0                  67.0   0.9968  3.20       0.68   \n",
       "2                 15.0                  54.0   0.9970  3.26       0.65   \n",
       "3                 17.0                  60.0   0.9980  3.16       0.58   \n",
       "4                 11.0                  34.0   0.9978  3.51       0.56   \n",
       "\n",
       "   alcohol  quality  \n",
       "0      9.4        5  \n",
       "1      9.8        5  \n",
       "2      9.8        5  \n",
       "3      9.8        6  \n",
       "4      9.4        5  "
      ]
     },
     "execution_count": 4,
     "metadata": {},
     "output_type": "execute_result"
    }
   ],
   "source": [
    "wine.head(5)"
   ]
  },
  {
   "cell_type": "code",
   "execution_count": 5,
   "id": "286467e9",
   "metadata": {},
   "outputs": [
    {
     "data": {
      "text/plain": [
       "Text(0, 0.5, 'Quantity')"
      ]
     },
     "execution_count": 5,
     "metadata": {},
     "output_type": "execute_result"
    },
    {
     "data": {
      "image/png": "[encoded data removed]",
      "text/plain": [
       "<Figure size 432x288 with 1 Axes>"
      ]
     },
     "metadata": {
      "needs_background": "light"
     },
     "output_type": "display_data"
    }
   ],
   "source": [
    "wine[\"quality\"].value_counts().sort_index().plot(kind = 'bar', rot = 0)\n",
    "plt.title(\"Wine quality\")\n",
    "plt.xlabel(\"Quality score\")\n",
    "plt.ylabel(\"Quantity\")"
   ]
  },
  {
   "cell_type": "code",
   "execution_count": 6,
   "id": "0c021bb0",
   "metadata": {},
   "outputs": [],
   "source": [
    "#Lets compare the average value of each feature for each quality score"
   ]
  },
  {
   "cell_type": "code",
   "execution_count": 7,
   "id": "062a1916",
   "metadata": {},
   "outputs": [
    {
     "data": {
      "text/plain": [
       "5    483\n",
       "6    462\n",
       "7    143\n",
       "4     33\n",
       "8     16\n",
       "3      6\n",
       "Name: quality, dtype: int64"
      ]
     },
     "execution_count": 7,
     "metadata": {},
     "output_type": "execute_result"
    }
   ],
   "source": [
    "wine[\"quality\"].value_counts()"
   ]
  },
  {
   "cell_type": "code",
   "execution_count": 8,
   "id": "9d575228",
   "metadata": {},
   "outputs": [],
   "source": [
    "quality_3 = wine[\"quality\"] == 3\n",
    "quality_4 = wine[\"quality\"] == 4\n",
    "quality_5 = wine[\"quality\"] == 5\n",
    "quality_6 = wine[\"quality\"] == 6\n",
    "quality_7 = wine[\"quality\"] == 7\n",
    "quality_8 = wine[\"quality\"] == 8"
   ]
  },
  {
   "cell_type": "code",
   "execution_count": 9,
   "id": "6211c1ca",
   "metadata": {},
   "outputs": [],
   "source": [
    "quality_3df = wine[quality_3]\n",
    "quality_4df = wine[quality_4]\n",
    "quality_5df = wine[quality_5]\n",
    "quality_6df = wine[quality_6]\n",
    "quality_7df = wine[quality_7]\n",
    "quality_8df = wine[quality_8]"
   ]
  },
  {
   "cell_type": "code",
   "execution_count": 10,
   "id": "9a923f7f",
   "metadata": {},
   "outputs": [
    {
     "data": {
      "text/html": [
       "<div>\n",
       "<style scoped>\n",
       "    .dataframe tbody tr th:only-of-type {\n",
       "        vertical-align: middle;\n",
       "    }\n",
       "\n",
       "    .dataframe tbody tr th {\n",
       "        vertical-align: top;\n",
       "    }\n",
       "\n",
       "    .dataframe thead th {\n",
       "        text-align: right;\n",
       "    }\n",
       "</style>\n",
       "<table border=\"1\" class=\"dataframe\">\n",
       "  <thead>\n",
       "    <tr style=\"text-align: right;\">\n",
       "      <th></th>\n",
       "      <th>fixed acidity</th>\n",
       "      <th>volatile acidity</th>\n",
       "      <th>citric acid</th>\n",
       "      <th>residual sugar</th>\n",
       "      <th>chlorides</th>\n",
       "      <th>free sulfur dioxide</th>\n",
       "      <th>total sulfur dioxide</th>\n",
       "      <th>density</th>\n",
       "      <th>pH</th>\n",
       "      <th>sulphates</th>\n",
       "      <th>alcohol</th>\n",
       "      <th>quality</th>\n",
       "    </tr>\n",
       "  </thead>\n",
       "  <tbody>\n",
       "    <tr>\n",
       "      <th>190</th>\n",
       "      <td>7.9</td>\n",
       "      <td>0.35</td>\n",
       "      <td>0.46</td>\n",
       "      <td>3.6</td>\n",
       "      <td>0.078</td>\n",
       "      <td>15.0</td>\n",
       "      <td>37.0</td>\n",
       "      <td>0.99730</td>\n",
       "      <td>3.35</td>\n",
       "      <td>0.86</td>\n",
       "      <td>12.8</td>\n",
       "      <td>8</td>\n",
       "    </tr>\n",
       "    <tr>\n",
       "      <th>197</th>\n",
       "      <td>10.3</td>\n",
       "      <td>0.32</td>\n",
       "      <td>0.45</td>\n",
       "      <td>6.4</td>\n",
       "      <td>0.073</td>\n",
       "      <td>5.0</td>\n",
       "      <td>13.0</td>\n",
       "      <td>0.99760</td>\n",
       "      <td>3.23</td>\n",
       "      <td>0.82</td>\n",
       "      <td>12.6</td>\n",
       "      <td>8</td>\n",
       "    </tr>\n",
       "    <tr>\n",
       "      <th>271</th>\n",
       "      <td>5.6</td>\n",
       "      <td>0.85</td>\n",
       "      <td>0.05</td>\n",
       "      <td>1.4</td>\n",
       "      <td>0.045</td>\n",
       "      <td>12.0</td>\n",
       "      <td>88.0</td>\n",
       "      <td>0.99240</td>\n",
       "      <td>3.56</td>\n",
       "      <td>0.82</td>\n",
       "      <td>12.9</td>\n",
       "      <td>8</td>\n",
       "    </tr>\n",
       "    <tr>\n",
       "      <th>310</th>\n",
       "      <td>12.6</td>\n",
       "      <td>0.31</td>\n",
       "      <td>0.72</td>\n",
       "      <td>2.2</td>\n",
       "      <td>0.072</td>\n",
       "      <td>6.0</td>\n",
       "      <td>29.0</td>\n",
       "      <td>0.99870</td>\n",
       "      <td>2.88</td>\n",
       "      <td>0.82</td>\n",
       "      <td>9.8</td>\n",
       "      <td>8</td>\n",
       "    </tr>\n",
       "    <tr>\n",
       "      <th>321</th>\n",
       "      <td>11.3</td>\n",
       "      <td>0.62</td>\n",
       "      <td>0.67</td>\n",
       "      <td>5.2</td>\n",
       "      <td>0.086</td>\n",
       "      <td>6.0</td>\n",
       "      <td>19.0</td>\n",
       "      <td>0.99880</td>\n",
       "      <td>3.22</td>\n",
       "      <td>0.69</td>\n",
       "      <td>13.4</td>\n",
       "      <td>8</td>\n",
       "    </tr>\n",
       "    <tr>\n",
       "      <th>340</th>\n",
       "      <td>9.4</td>\n",
       "      <td>0.30</td>\n",
       "      <td>0.56</td>\n",
       "      <td>2.8</td>\n",
       "      <td>0.080</td>\n",
       "      <td>6.0</td>\n",
       "      <td>17.0</td>\n",
       "      <td>0.99640</td>\n",
       "      <td>3.15</td>\n",
       "      <td>0.92</td>\n",
       "      <td>11.7</td>\n",
       "      <td>8</td>\n",
       "    </tr>\n",
       "    <tr>\n",
       "      <th>349</th>\n",
       "      <td>10.7</td>\n",
       "      <td>0.35</td>\n",
       "      <td>0.53</td>\n",
       "      <td>2.6</td>\n",
       "      <td>0.070</td>\n",
       "      <td>5.0</td>\n",
       "      <td>16.0</td>\n",
       "      <td>0.99720</td>\n",
       "      <td>3.15</td>\n",
       "      <td>0.65</td>\n",
       "      <td>11.0</td>\n",
       "      <td>8</td>\n",
       "    </tr>\n",
       "    <tr>\n",
       "      <th>352</th>\n",
       "      <td>10.7</td>\n",
       "      <td>0.35</td>\n",
       "      <td>0.53</td>\n",
       "      <td>2.6</td>\n",
       "      <td>0.070</td>\n",
       "      <td>5.0</td>\n",
       "      <td>16.0</td>\n",
       "      <td>0.99720</td>\n",
       "      <td>3.15</td>\n",
       "      <td>0.65</td>\n",
       "      <td>11.0</td>\n",
       "      <td>8</td>\n",
       "    </tr>\n",
       "    <tr>\n",
       "      <th>419</th>\n",
       "      <td>5.0</td>\n",
       "      <td>0.42</td>\n",
       "      <td>0.24</td>\n",
       "      <td>2.0</td>\n",
       "      <td>0.060</td>\n",
       "      <td>19.0</td>\n",
       "      <td>50.0</td>\n",
       "      <td>0.99170</td>\n",
       "      <td>3.72</td>\n",
       "      <td>0.74</td>\n",
       "      <td>14.0</td>\n",
       "      <td>8</td>\n",
       "    </tr>\n",
       "    <tr>\n",
       "      <th>747</th>\n",
       "      <td>9.1</td>\n",
       "      <td>0.40</td>\n",
       "      <td>0.50</td>\n",
       "      <td>1.8</td>\n",
       "      <td>0.071</td>\n",
       "      <td>7.0</td>\n",
       "      <td>16.0</td>\n",
       "      <td>0.99462</td>\n",
       "      <td>3.21</td>\n",
       "      <td>0.69</td>\n",
       "      <td>12.5</td>\n",
       "      <td>8</td>\n",
       "    </tr>\n",
       "    <tr>\n",
       "      <th>769</th>\n",
       "      <td>10.0</td>\n",
       "      <td>0.26</td>\n",
       "      <td>0.54</td>\n",
       "      <td>1.9</td>\n",
       "      <td>0.083</td>\n",
       "      <td>42.0</td>\n",
       "      <td>74.0</td>\n",
       "      <td>0.99451</td>\n",
       "      <td>2.98</td>\n",
       "      <td>0.63</td>\n",
       "      <td>11.8</td>\n",
       "      <td>8</td>\n",
       "    </tr>\n",
       "    <tr>\n",
       "      <th>793</th>\n",
       "      <td>7.9</td>\n",
       "      <td>0.54</td>\n",
       "      <td>0.34</td>\n",
       "      <td>2.5</td>\n",
       "      <td>0.076</td>\n",
       "      <td>8.0</td>\n",
       "      <td>17.0</td>\n",
       "      <td>0.99235</td>\n",
       "      <td>3.20</td>\n",
       "      <td>0.72</td>\n",
       "      <td>13.1</td>\n",
       "      <td>8</td>\n",
       "    </tr>\n",
       "    <tr>\n",
       "      <th>850</th>\n",
       "      <td>8.6</td>\n",
       "      <td>0.42</td>\n",
       "      <td>0.39</td>\n",
       "      <td>1.8</td>\n",
       "      <td>0.068</td>\n",
       "      <td>6.0</td>\n",
       "      <td>12.0</td>\n",
       "      <td>0.99516</td>\n",
       "      <td>3.35</td>\n",
       "      <td>0.69</td>\n",
       "      <td>11.7</td>\n",
       "      <td>8</td>\n",
       "    </tr>\n",
       "    <tr>\n",
       "      <th>996</th>\n",
       "      <td>7.2</td>\n",
       "      <td>0.33</td>\n",
       "      <td>0.33</td>\n",
       "      <td>1.7</td>\n",
       "      <td>0.061</td>\n",
       "      <td>3.0</td>\n",
       "      <td>13.0</td>\n",
       "      <td>0.99600</td>\n",
       "      <td>3.23</td>\n",
       "      <td>1.10</td>\n",
       "      <td>10.0</td>\n",
       "      <td>8</td>\n",
       "    </tr>\n",
       "    <tr>\n",
       "      <th>1030</th>\n",
       "      <td>7.2</td>\n",
       "      <td>0.38</td>\n",
       "      <td>0.31</td>\n",
       "      <td>2.0</td>\n",
       "      <td>0.056</td>\n",
       "      <td>15.0</td>\n",
       "      <td>29.0</td>\n",
       "      <td>0.99472</td>\n",
       "      <td>3.23</td>\n",
       "      <td>0.76</td>\n",
       "      <td>11.3</td>\n",
       "      <td>8</td>\n",
       "    </tr>\n",
       "    <tr>\n",
       "      <th>1104</th>\n",
       "      <td>7.4</td>\n",
       "      <td>0.36</td>\n",
       "      <td>0.30</td>\n",
       "      <td>1.8</td>\n",
       "      <td>0.074</td>\n",
       "      <td>17.0</td>\n",
       "      <td>24.0</td>\n",
       "      <td>0.99419</td>\n",
       "      <td>3.24</td>\n",
       "      <td>0.70</td>\n",
       "      <td>11.4</td>\n",
       "      <td>8</td>\n",
       "    </tr>\n",
       "  </tbody>\n",
       "</table>\n",
       "</div>"
      ],
      "text/plain": [
       "      fixed acidity  volatile acidity  citric acid  residual sugar  chlorides  \\\n",
       "190             7.9              0.35         0.46             3.6      0.078   \n",
       "197            10.3              0.32         0.45             6.4      0.073   \n",
       "271             5.6              0.85         0.05             1.4      0.045   \n",
       "310            12.6              0.31         0.72             2.2      0.072   \n",
       "321            11.3              0.62         0.67             5.2      0.086   \n",
       "340             9.4              0.30         0.56             2.8      0.080   \n",
       "349            10.7              0.35         0.53             2.6      0.070   \n",
       "352            10.7              0.35         0.53             2.6      0.070   \n",
       "419             5.0              0.42         0.24             2.0      0.060   \n",
       "747             9.1              0.40         0.50             1.8      0.071   \n",
       "769            10.0              0.26         0.54             1.9      0.083   \n",
       "793             7.9              0.54         0.34             2.5      0.076   \n",
       "850             8.6              0.42         0.39             1.8      0.068   \n",
       "996             7.2              0.33         0.33             1.7      0.061   \n",
       "1030            7.2              0.38         0.31             2.0      0.056   \n",
       "1104            7.4              0.36         0.30             1.8      0.074   \n",
       "\n",
       "      free sulfur dioxide  total sulfur dioxide  density    pH  sulphates  \\\n",
       "190                  15.0                  37.0  0.99730  3.35       0.86   \n",
       "197                   5.0                  13.0  0.99760  3.23       0.82   \n",
       "271                  12.0                  88.0  0.99240  3.56       0.82   \n",
       "310                   6.0                  29.0  0.99870  2.88       0.82   \n",
       "321                   6.0                  19.0  0.99880  3.22       0.69   \n",
       "340                   6.0                  17.0  0.99640  3.15       0.92   \n",
       "349                   5.0                  16.0  0.99720  3.15       0.65   \n",
       "352                   5.0                  16.0  0.99720  3.15       0.65   \n",
       "419                  19.0                  50.0  0.99170  3.72       0.74   \n",
       "747                   7.0                  16.0  0.99462  3.21       0.69   \n",
       "769                  42.0                  74.0  0.99451  2.98       0.63   \n",
       "793                   8.0                  17.0  0.99235  3.20       0.72   \n",
       "850                   6.0                  12.0  0.99516  3.35       0.69   \n",
       "996                   3.0                  13.0  0.99600  3.23       1.10   \n",
       "1030                 15.0                  29.0  0.99472  3.23       0.76   \n",
       "1104                 17.0                  24.0  0.99419  3.24       0.70   \n",
       "\n",
       "      alcohol  quality  \n",
       "190      12.8        8  \n",
       "197      12.6        8  \n",
       "271      12.9        8  \n",
       "310       9.8        8  \n",
       "321      13.4        8  \n",
       "340      11.7        8  \n",
       "349      11.0        8  \n",
       "352      11.0        8  \n",
       "419      14.0        8  \n",
       "747      12.5        8  \n",
       "769      11.8        8  \n",
       "793      13.1        8  \n",
       "850      11.7        8  \n",
       "996      10.0        8  \n",
       "1030     11.3        8  \n",
       "1104     11.4        8  "
      ]
     },
     "execution_count": 10,
     "metadata": {},
     "output_type": "execute_result"
    }
   ],
   "source": [
    "quality_8df "
   ]
  },
  {
   "cell_type": "code",
   "execution_count": 11,
   "id": "61ee37b6",
   "metadata": {},
   "outputs": [],
   "source": [
    "colum_name = wine.columns"
   ]
  },
  {
   "cell_type": "code",
   "execution_count": 12,
   "id": "306f4e12",
   "metadata": {},
   "outputs": [
    {
     "data": {
      "text/plain": [
       "Index(['fixed acidity', 'volatile acidity', 'citric acid', 'residual sugar',\n",
       "       'chlorides', 'free sulfur dioxide', 'total sulfur dioxide', 'density',\n",
       "       'pH', 'sulphates', 'alcohol', 'quality'],\n",
       "      dtype='object')"
      ]
     },
     "execution_count": 12,
     "metadata": {},
     "output_type": "execute_result"
    }
   ],
   "source": [
    "colum_name"
   ]
  },
  {
   "cell_type": "code",
   "execution_count": 13,
   "id": "2f967b2b",
   "metadata": {},
   "outputs": [],
   "source": [
    "average_quality = []"
   ]
  },
  {
   "cell_type": "code",
   "execution_count": 14,
   "id": "23a8373f",
   "metadata": {},
   "outputs": [],
   "source": [
    "for frame in [quality_3df, quality_4df, quality_5df, quality_6df, quality_7df, quality_8df]:\n",
    "    for col in colum_name:\n",
    "        average_quality.append(frame[col].mean())\n",
    "sub_averages = np.array_split(average_quality, 6)"
   ]
  },
  {
   "cell_type": "code",
   "execution_count": 15,
   "id": "928d28a1",
   "metadata": {},
   "outputs": [],
   "source": [
    "average_quality3 = sub_averages[0]\n",
    "average_quality4 = sub_averages[1]\n",
    "average_quality5 = sub_averages[2]\n",
    "average_quality6 = sub_averages[3]\n",
    "average_quality7 = sub_averages[4]\n",
    "average_quality8 = sub_averages[5]"
   ]
  },
  {
   "cell_type": "code",
   "execution_count": 16,
   "id": "68d14964",
   "metadata": {},
   "outputs": [],
   "source": [
    "scores = wine[\"quality\"].unique()\n",
    "scores.sort()"
   ]
  },
  {
   "cell_type": "code",
   "execution_count": 17,
   "id": "3fbfb85b",
   "metadata": {},
   "outputs": [
    {
     "data": {
      "text/plain": [
       "array([3, 4, 5, 6, 7, 8], dtype=int64)"
      ]
     },
     "execution_count": 17,
     "metadata": {},
     "output_type": "execute_result"
    }
   ],
   "source": [
    "scores"
   ]
  },
  {
   "cell_type": "code",
   "execution_count": 18,
   "id": "322ce112",
   "metadata": {},
   "outputs": [],
   "source": [
    "#Now we have a list with each average value for eache score, average_quality3 contains all average values for wine of score\n",
    "#and so on. Lets now create lists containing each feature"
   ]
  },
  {
   "cell_type": "code",
   "execution_count": 19,
   "id": "53f0e8c7",
   "metadata": {},
   "outputs": [],
   "source": [
    "#fixed acidity\n",
    "fixed_acidity = []\n",
    "for lists in [average_quality3, average_quality4, average_quality5, average_quality6, average_quality7, average_quality8]:\n",
    "    fixed_acidity.append(lists[0])\n"
   ]
  },
  {
   "cell_type": "code",
   "execution_count": 20,
   "id": "90448c1a",
   "metadata": {},
   "outputs": [
    {
     "data": {
      "text/plain": [
       "Text(0.5, 0, 'Score')"
      ]
     },
     "execution_count": 20,
     "metadata": {},
     "output_type": "execute_result"
    },
    {
     "data": {
      "image/png": "[encoded data removed]",
      "text/plain": [
       "<Figure size 432x288 with 1 Axes>"
      ]
     },
     "metadata": {
      "needs_background": "light"
     },
     "output_type": "display_data"
    }
   ],
   "source": [
    "#Fixed acidity graph plot\n",
    "plt.bar(scores, np.around(fixed_acidity, 2)) \n",
    "plt.ylim(0, 12)\n",
    "plt.title(\"fixed acidity\")\n",
    "plt.xlabel(\"Score\")"
   ]
  },
  {
   "cell_type": "code",
   "execution_count": 21,
   "id": "fd137db8",
   "metadata": {},
   "outputs": [
    {
     "data": {
      "text/plain": [
       "[0.8975,\n",
       " 0.7000000000000001,\n",
       " 0.5852795031055898,\n",
       " 0.5049567099567103,\n",
       " 0.3936713286713285,\n",
       " 0.41000000000000003]"
      ]
     },
     "execution_count": 21,
     "metadata": {},
     "output_type": "execute_result"
    }
   ],
   "source": [
    "#volatile_acidity\n",
    "volatile_acidity = []\n",
    "for lists in [average_quality3, average_quality4, average_quality5, average_quality6, average_quality7, average_quality8]:\n",
    "    volatile_acidity.append(lists[1])\n",
    "volatile_acidity"
   ]
  },
  {
   "cell_type": "code",
   "execution_count": 22,
   "id": "02af831b",
   "metadata": {},
   "outputs": [
    {
     "data": {
      "text/plain": [
       "Text(0.5, 0, 'Score')"
      ]
     },
     "execution_count": 22,
     "metadata": {},
     "output_type": "execute_result"
    },
    {
     "data": {
      "image/png": "[encoded data removed]",
      "text/plain": [
       "<Figure size 432x288 with 1 Axes>"
      ]
     },
     "metadata": {
      "needs_background": "light"
     },
     "output_type": "display_data"
    }
   ],
   "source": [
    "#volatile_acidity graph plot\n",
    "plt.bar(scores, np.around(volatile_acidity, 2)) \n",
    "plt.ylim(0, 2.5)\n",
    "plt.title(\"volatile acidity\")\n",
    "plt.xlabel(\"Score\")"
   ]
  },
  {
   "cell_type": "code",
   "execution_count": 23,
   "id": "5905685b",
   "metadata": {},
   "outputs": [
    {
     "data": {
      "text/plain": [
       "[0.21166666666666667,\n",
       " 0.1657575757575758,\n",
       " 0.24012422360248473,\n",
       " 0.2636796536796536,\n",
       " 0.3865734265734265,\n",
       " 0.4325]"
      ]
     },
     "execution_count": 23,
     "metadata": {},
     "output_type": "execute_result"
    }
   ],
   "source": [
    "#citric acid\n",
    "citric_acid = []\n",
    "for lists in [average_quality3, average_quality4, average_quality5, average_quality6, average_quality7, average_quality8]:\n",
    "    citric_acid.append(lists[2])\n",
    "citric_acid"
   ]
  },
  {
   "cell_type": "code",
   "execution_count": 24,
   "id": "3e4252ed",
   "metadata": {},
   "outputs": [
    {
     "data": {
      "text/plain": [
       "Text(0.5, 0, 'Score')"
      ]
     },
     "execution_count": 24,
     "metadata": {},
     "output_type": "execute_result"
    },
    {
     "data": {
      "image/png": "[encoded data removed]",
      "text/plain": [
       "<Figure size 432x288 with 1 Axes>"
      ]
     },
     "metadata": {
      "needs_background": "light"
     },
     "output_type": "display_data"
    }
   ],
   "source": [
    "#citric_acid graph plot\n",
    "plt.bar(scores, np.around(citric_acid, 2)) \n",
    "plt.ylim(0, 1)\n",
    "plt.title(\"citric acid\")\n",
    "plt.xlabel(\"Score\")"
   ]
  },
  {
   "cell_type": "code",
   "execution_count": 25,
   "id": "728a4789",
   "metadata": {},
   "outputs": [
    {
     "data": {
      "text/plain": [
       "[2.6666666666666665,\n",
       " 2.566666666666667,\n",
       " 2.5404761904761877,\n",
       " 2.444805194805195,\n",
       " 2.7601398601398603,\n",
       " 2.6437500000000003]"
      ]
     },
     "execution_count": 25,
     "metadata": {},
     "output_type": "execute_result"
    }
   ],
   "source": [
    "#residual sugar\n",
    "residual_sugar = []\n",
    "for lists in [average_quality3, average_quality4, average_quality5, average_quality6, average_quality7, average_quality8]:\n",
    "    residual_sugar.append(lists[3])\n",
    "residual_sugar"
   ]
  },
  {
   "cell_type": "code",
   "execution_count": 26,
   "id": "63086ee4",
   "metadata": {},
   "outputs": [
    {
     "data": {
      "text/plain": [
       "Text(0.5, 0, 'Score')"
      ]
     },
     "execution_count": 26,
     "metadata": {},
     "output_type": "execute_result"
    },
    {
     "data": {
      "image/png": "[encoded data removed]",
      "text/plain": [
       "<Figure size 432x288 with 1 Axes>"
      ]
     },
     "metadata": {
      "needs_background": "light"
     },
     "output_type": "display_data"
    }
   ],
   "source": [
    "#residual sugar graph plot\n",
    "plt.bar(scores, np.around(residual_sugar, 2)) \n",
    "plt.ylim(0, 4)\n",
    "plt.title(\"residual sugar\")\n",
    "plt.xlabel(\"Score\")"
   ]
  },
  {
   "cell_type": "code",
   "execution_count": 27,
   "id": "ba0d0d55",
   "metadata": {},
   "outputs": [
    {
     "data": {
      "text/plain": [
       "[0.10533333333333329,\n",
       " 0.09478787878787881,\n",
       " 0.09177018633540368,\n",
       " 0.08528138528138526,\n",
       " 0.07521678321678321,\n",
       " 0.07018749999999999]"
      ]
     },
     "execution_count": 27,
     "metadata": {},
     "output_type": "execute_result"
    }
   ],
   "source": [
    "#chlorides\n",
    "chlorides = []\n",
    "for lists in [average_quality3, average_quality4, average_quality5, average_quality6, average_quality7, average_quality8]:\n",
    "    chlorides.append(lists[4])\n",
    "chlorides"
   ]
  },
  {
   "cell_type": "code",
   "execution_count": 28,
   "id": "077c3199",
   "metadata": {},
   "outputs": [
    {
     "data": {
      "text/plain": [
       "Text(0.5, 0, 'Score')"
      ]
     },
     "execution_count": 28,
     "metadata": {},
     "output_type": "execute_result"
    },
    {
     "data": {
      "image/png": "[encoded data removed]",
      "text/plain": [
       "<Figure size 432x288 with 1 Axes>"
      ]
     },
     "metadata": {
      "needs_background": "light"
     },
     "output_type": "display_data"
    }
   ],
   "source": [
    "#chlorides sugar graph plot\n",
    "plt.bar(scores, np.around(chlorides, 2)) \n",
    "plt.ylim(0, 0.2)\n",
    "plt.title(\"chlorides\")\n",
    "plt.xlabel(\"Score\")"
   ]
  },
  {
   "cell_type": "code",
   "execution_count": 29,
   "id": "f41d4e39",
   "metadata": {},
   "outputs": [
    {
     "data": {
      "text/plain": [
       "[8.166666666666666,\n",
       " 14.848484848484848,\n",
       " 16.612836438923395,\n",
       " 15.215367965367966,\n",
       " 14.538461538461538,\n",
       " 11.0625]"
      ]
     },
     "execution_count": 29,
     "metadata": {},
     "output_type": "execute_result"
    }
   ],
   "source": [
    "#free sulfur dioxide\n",
    "free_sulfur_dioxide = []\n",
    "for lists in [average_quality3, average_quality4, average_quality5, average_quality6, average_quality7, average_quality8]:\n",
    "    free_sulfur_dioxide.append(lists[5])\n",
    "free_sulfur_dioxide"
   ]
  },
  {
   "cell_type": "code",
   "execution_count": 30,
   "id": "2afa32eb",
   "metadata": {},
   "outputs": [
    {
     "data": {
      "text/plain": [
       "Text(0.5, 0, 'Score')"
      ]
     },
     "execution_count": 30,
     "metadata": {},
     "output_type": "execute_result"
    },
    {
     "data": {
      "image/png": "[encoded data removed]",
      "text/plain": [
       "<Figure size 432x288 with 1 Axes>"
      ]
     },
     "metadata": {
      "needs_background": "light"
     },
     "output_type": "display_data"
    }
   ],
   "source": [
    "#free sulfur dioxide sugar graph plot\n",
    "plt.bar(scores, np.around(free_sulfur_dioxide, 2)) \n",
    "plt.ylim(0, 20)\n",
    "plt.title(\"free sulfur dioxide\")\n",
    "plt.xlabel(\"Score\")"
   ]
  },
  {
   "cell_type": "code",
   "execution_count": 31,
   "id": "59fb623d",
   "metadata": {},
   "outputs": [
    {
     "data": {
      "text/plain": [
       "[24.5,\n",
       " 40.60606060606061,\n",
       " 55.299171842650104,\n",
       " 39.94155844155844,\n",
       " 37.48951048951049,\n",
       " 29.375]"
      ]
     },
     "execution_count": 31,
     "metadata": {},
     "output_type": "execute_result"
    }
   ],
   "source": [
    "#total sulfur dioxide\n",
    "total_sulfur_dioxide = []\n",
    "for lists in [average_quality3, average_quality4, average_quality5, average_quality6, average_quality7, average_quality8]:\n",
    "    total_sulfur_dioxide.append(lists[6])\n",
    "total_sulfur_dioxide"
   ]
  },
  {
   "cell_type": "code",
   "execution_count": 32,
   "id": "c19e7d09",
   "metadata": {},
   "outputs": [
    {
     "data": {
      "text/plain": [
       "Text(0.5, 0, 'Score')"
      ]
     },
     "execution_count": 32,
     "metadata": {},
     "output_type": "execute_result"
    },
    {
     "data": {
      "image/png": "[encoded data removed]",
      "text/plain": [
       "<Figure size 432x288 with 1 Axes>"
      ]
     },
     "metadata": {
      "needs_background": "light"
     },
     "output_type": "display_data"
    }
   ],
   "source": [
    "#total sulfur dioxide graph plot\n",
    "plt.bar(scores, np.around(total_sulfur_dioxide, 2)) \n",
    "plt.ylim(0, 60)\n",
    "plt.title(\"total sulfur dioxide\")\n",
    "plt.xlabel(\"Score\")"
   ]
  },
  {
   "cell_type": "code",
   "execution_count": 33,
   "id": "1f675121",
   "metadata": {},
   "outputs": [
    {
     "data": {
      "text/plain": [
       "[0.9976816666666665,\n",
       " 0.9966693939393938,\n",
       " 0.9970726501035201,\n",
       " 0.9966095454545453,\n",
       " 0.9960708391608384,\n",
       " 0.995553125]"
      ]
     },
     "execution_count": 33,
     "metadata": {},
     "output_type": "execute_result"
    }
   ],
   "source": [
    "#density\n",
    "density = []\n",
    "for lists in [average_quality3, average_quality4, average_quality5, average_quality6, average_quality7, average_quality8]:\n",
    "    density.append(lists[7])\n",
    "density"
   ]
  },
  {
   "cell_type": "code",
   "execution_count": 34,
   "id": "6ed18a79",
   "metadata": {},
   "outputs": [
    {
     "data": {
      "text/plain": [
       "Text(0.5, 0, 'Score')"
      ]
     },
     "execution_count": 34,
     "metadata": {},
     "output_type": "execute_result"
    },
    {
     "data": {
      "image/png": "[encoded data removed]",
      "text/plain": [
       "<Figure size 432x288 with 1 Axes>"
      ]
     },
     "metadata": {
      "needs_background": "light"
     },
     "output_type": "display_data"
    }
   ],
   "source": [
    "#density graph plot\n",
    "plt.bar(scores, np.around(density, 2)) \n",
    "plt.ylim(0, 2)\n",
    "plt.title(\"density\")\n",
    "plt.xlabel(\"Score\")"
   ]
  },
  {
   "cell_type": "code",
   "execution_count": 35,
   "id": "d33a8d57",
   "metadata": {},
   "outputs": [
    {
     "data": {
      "text/plain": [
       "[3.361666666666667,\n",
       " 3.391212121212121,\n",
       " 3.3020910973084874,\n",
       " 3.323787878787877,\n",
       " 3.2871328671328657,\n",
       " 3.240624999999999]"
      ]
     },
     "execution_count": 35,
     "metadata": {},
     "output_type": "execute_result"
    }
   ],
   "source": [
    "#pH\n",
    "pH = []\n",
    "for lists in [average_quality3, average_quality4, average_quality5, average_quality6, average_quality7, average_quality8]:\n",
    "    pH.append(lists[8])\n",
    "pH"
   ]
  },
  {
   "cell_type": "code",
   "execution_count": 36,
   "id": "33ecac53",
   "metadata": {},
   "outputs": [
    {
     "data": {
      "text/plain": [
       "Text(0.5, 0, 'Score')"
      ]
     },
     "execution_count": 36,
     "metadata": {},
     "output_type": "execute_result"
    },
    {
     "data": {
      "image/png": "[encoded data removed]",
      "text/plain": [
       "<Figure size 432x288 with 1 Axes>"
      ]
     },
     "metadata": {
      "needs_background": "light"
     },
     "output_type": "display_data"
    }
   ],
   "source": [
    "#pH graph plot\n",
    "plt.bar(scores, np.around(pH, 2)) \n",
    "plt.ylim(0, 4)\n",
    "plt.title(\"pH\")\n",
    "plt.xlabel(\"Score\")"
   ]
  },
  {
   "cell_type": "code",
   "execution_count": 37,
   "id": "358eaa0f",
   "metadata": {},
   "outputs": [
    {
     "data": {
      "text/plain": [
       "[0.55,\n",
       " 0.637878787878788,\n",
       " 0.6133747412008281,\n",
       " 0.6765367965367967,\n",
       " 0.7435664335664337,\n",
       " 0.76625]"
      ]
     },
     "execution_count": 37,
     "metadata": {},
     "output_type": "execute_result"
    }
   ],
   "source": [
    "#sulphates\n",
    "sulphates = []\n",
    "for lists in [average_quality3, average_quality4, average_quality5, average_quality6, average_quality7, average_quality8]:\n",
    "    sulphates.append(lists[9])\n",
    "sulphates"
   ]
  },
  {
   "cell_type": "code",
   "execution_count": 38,
   "id": "a92fac57",
   "metadata": {},
   "outputs": [
    {
     "data": {
      "text/plain": [
       "Text(0.5, 0, 'Score')"
      ]
     },
     "execution_count": 38,
     "metadata": {},
     "output_type": "execute_result"
    },
    {
     "data": {
      "image/png": "[encoded data removed]",
      "text/plain": [
       "<Figure size 432x288 with 1 Axes>"
      ]
     },
     "metadata": {
      "needs_background": "light"
     },
     "output_type": "display_data"
    }
   ],
   "source": [
    "#sulphates graph plot\n",
    "plt.bar(scores, np.around(sulphates, 2)) \n",
    "plt.ylim(0, 1)\n",
    "plt.title(\"sulphates\")\n",
    "plt.xlabel(\"Score\")"
   ]
  },
  {
   "cell_type": "code",
   "execution_count": 39,
   "id": "f1cfca8d",
   "metadata": {},
   "outputs": [
    {
     "data": {
      "text/plain": [
       "[9.691666666666668,\n",
       " 10.260606060606062,\n",
       " 9.90227743271222,\n",
       " 10.655339105339111,\n",
       " 11.482634032634024,\n",
       " 11.9375]"
      ]
     },
     "execution_count": 39,
     "metadata": {},
     "output_type": "execute_result"
    }
   ],
   "source": [
    "#alcohol\n",
    "alcohol = []\n",
    "for lists in [average_quality3, average_quality4, average_quality5, average_quality6, average_quality7, average_quality8]:\n",
    "    alcohol.append(lists[10])\n",
    "alcohol"
   ]
  },
  {
   "cell_type": "code",
   "execution_count": 40,
   "id": "c8eeedea",
   "metadata": {},
   "outputs": [
    {
     "data": {
      "text/plain": [
       "Text(0.5, 0, 'Score')"
      ]
     },
     "execution_count": 40,
     "metadata": {},
     "output_type": "execute_result"
    },
    {
     "data": {
      "image/png": "[encoded data removed]",
      "text/plain": [
       "<Figure size 432x288 with 1 Axes>"
      ]
     },
     "metadata": {
      "needs_background": "light"
     },
     "output_type": "display_data"
    }
   ],
   "source": [
    "#alcohol graph plot\n",
    "plt.bar(scores, np.around(alcohol, 2)) \n",
    "plt.ylim(0, 13)\n",
    "plt.title(\"alcohol\")\n",
    "plt.xlabel(\"Score\")"
   ]
  },
  {
   "cell_type": "code",
   "execution_count": 41,
   "id": "5e33712e",
   "metadata": {},
   "outputs": [],
   "source": [
    "y_target = wine[\"quality\"]\n",
    "x_features = wine.drop(\"quality\", axis = 1)"
   ]
  },
  {
   "cell_type": "code",
   "execution_count": 42,
   "id": "2af60939",
   "metadata": {},
   "outputs": [
    {
     "data": {
      "text/html": [
       "<div>\n",
       "<style scoped>\n",
       "    .dataframe tbody tr th:only-of-type {\n",
       "        vertical-align: middle;\n",
       "    }\n",
       "\n",
       "    .dataframe tbody tr th {\n",
       "        vertical-align: top;\n",
       "    }\n",
       "\n",
       "    .dataframe thead th {\n",
       "        text-align: right;\n",
       "    }\n",
       "</style>\n",
       "<table border=\"1\" class=\"dataframe\">\n",
       "  <thead>\n",
       "    <tr style=\"text-align: right;\">\n",
       "      <th></th>\n",
       "      <th>fixed acidity</th>\n",
       "      <th>volatile acidity</th>\n",
       "      <th>citric acid</th>\n",
       "      <th>residual sugar</th>\n",
       "      <th>chlorides</th>\n",
       "      <th>free sulfur dioxide</th>\n",
       "      <th>total sulfur dioxide</th>\n",
       "      <th>density</th>\n",
       "      <th>pH</th>\n",
       "      <th>sulphates</th>\n",
       "      <th>alcohol</th>\n",
       "    </tr>\n",
       "  </thead>\n",
       "  <tbody>\n",
       "    <tr>\n",
       "      <th>0</th>\n",
       "      <td>7.4</td>\n",
       "      <td>0.700</td>\n",
       "      <td>0.00</td>\n",
       "      <td>1.9</td>\n",
       "      <td>0.076</td>\n",
       "      <td>11.0</td>\n",
       "      <td>34.0</td>\n",
       "      <td>0.99780</td>\n",
       "      <td>3.51</td>\n",
       "      <td>0.56</td>\n",
       "      <td>9.4</td>\n",
       "    </tr>\n",
       "    <tr>\n",
       "      <th>1</th>\n",
       "      <td>7.8</td>\n",
       "      <td>0.880</td>\n",
       "      <td>0.00</td>\n",
       "      <td>2.6</td>\n",
       "      <td>0.098</td>\n",
       "      <td>25.0</td>\n",
       "      <td>67.0</td>\n",
       "      <td>0.99680</td>\n",
       "      <td>3.20</td>\n",
       "      <td>0.68</td>\n",
       "      <td>9.8</td>\n",
       "    </tr>\n",
       "    <tr>\n",
       "      <th>2</th>\n",
       "      <td>7.8</td>\n",
       "      <td>0.760</td>\n",
       "      <td>0.04</td>\n",
       "      <td>2.3</td>\n",
       "      <td>0.092</td>\n",
       "      <td>15.0</td>\n",
       "      <td>54.0</td>\n",
       "      <td>0.99700</td>\n",
       "      <td>3.26</td>\n",
       "      <td>0.65</td>\n",
       "      <td>9.8</td>\n",
       "    </tr>\n",
       "    <tr>\n",
       "      <th>3</th>\n",
       "      <td>11.2</td>\n",
       "      <td>0.280</td>\n",
       "      <td>0.56</td>\n",
       "      <td>1.9</td>\n",
       "      <td>0.075</td>\n",
       "      <td>17.0</td>\n",
       "      <td>60.0</td>\n",
       "      <td>0.99800</td>\n",
       "      <td>3.16</td>\n",
       "      <td>0.58</td>\n",
       "      <td>9.8</td>\n",
       "    </tr>\n",
       "    <tr>\n",
       "      <th>4</th>\n",
       "      <td>7.4</td>\n",
       "      <td>0.700</td>\n",
       "      <td>0.00</td>\n",
       "      <td>1.9</td>\n",
       "      <td>0.076</td>\n",
       "      <td>11.0</td>\n",
       "      <td>34.0</td>\n",
       "      <td>0.99780</td>\n",
       "      <td>3.51</td>\n",
       "      <td>0.56</td>\n",
       "      <td>9.4</td>\n",
       "    </tr>\n",
       "    <tr>\n",
       "      <th>...</th>\n",
       "      <td>...</td>\n",
       "      <td>...</td>\n",
       "      <td>...</td>\n",
       "      <td>...</td>\n",
       "      <td>...</td>\n",
       "      <td>...</td>\n",
       "      <td>...</td>\n",
       "      <td>...</td>\n",
       "      <td>...</td>\n",
       "      <td>...</td>\n",
       "      <td>...</td>\n",
       "    </tr>\n",
       "    <tr>\n",
       "      <th>1138</th>\n",
       "      <td>6.3</td>\n",
       "      <td>0.510</td>\n",
       "      <td>0.13</td>\n",
       "      <td>2.3</td>\n",
       "      <td>0.076</td>\n",
       "      <td>29.0</td>\n",
       "      <td>40.0</td>\n",
       "      <td>0.99574</td>\n",
       "      <td>3.42</td>\n",
       "      <td>0.75</td>\n",
       "      <td>11.0</td>\n",
       "    </tr>\n",
       "    <tr>\n",
       "      <th>1139</th>\n",
       "      <td>6.8</td>\n",
       "      <td>0.620</td>\n",
       "      <td>0.08</td>\n",
       "      <td>1.9</td>\n",
       "      <td>0.068</td>\n",
       "      <td>28.0</td>\n",
       "      <td>38.0</td>\n",
       "      <td>0.99651</td>\n",
       "      <td>3.42</td>\n",
       "      <td>0.82</td>\n",
       "      <td>9.5</td>\n",
       "    </tr>\n",
       "    <tr>\n",
       "      <th>1140</th>\n",
       "      <td>6.2</td>\n",
       "      <td>0.600</td>\n",
       "      <td>0.08</td>\n",
       "      <td>2.0</td>\n",
       "      <td>0.090</td>\n",
       "      <td>32.0</td>\n",
       "      <td>44.0</td>\n",
       "      <td>0.99490</td>\n",
       "      <td>3.45</td>\n",
       "      <td>0.58</td>\n",
       "      <td>10.5</td>\n",
       "    </tr>\n",
       "    <tr>\n",
       "      <th>1141</th>\n",
       "      <td>5.9</td>\n",
       "      <td>0.550</td>\n",
       "      <td>0.10</td>\n",
       "      <td>2.2</td>\n",
       "      <td>0.062</td>\n",
       "      <td>39.0</td>\n",
       "      <td>51.0</td>\n",
       "      <td>0.99512</td>\n",
       "      <td>3.52</td>\n",
       "      <td>0.76</td>\n",
       "      <td>11.2</td>\n",
       "    </tr>\n",
       "    <tr>\n",
       "      <th>1142</th>\n",
       "      <td>5.9</td>\n",
       "      <td>0.645</td>\n",
       "      <td>0.12</td>\n",
       "      <td>2.0</td>\n",
       "      <td>0.075</td>\n",
       "      <td>32.0</td>\n",
       "      <td>44.0</td>\n",
       "      <td>0.99547</td>\n",
       "      <td>3.57</td>\n",
       "      <td>0.71</td>\n",
       "      <td>10.2</td>\n",
       "    </tr>\n",
       "  </tbody>\n",
       "</table>\n",
       "<p>1143 rows × 11 columns</p>\n",
       "</div>"
      ],
      "text/plain": [
       "      fixed acidity  volatile acidity  citric acid  residual sugar  chlorides  \\\n",
       "0               7.4             0.700         0.00             1.9      0.076   \n",
       "1               7.8             0.880         0.00             2.6      0.098   \n",
       "2               7.8             0.760         0.04             2.3      0.092   \n",
       "3              11.2             0.280         0.56             1.9      0.075   \n",
       "4               7.4             0.700         0.00             1.9      0.076   \n",
       "...             ...               ...          ...             ...        ...   \n",
       "1138            6.3             0.510         0.13             2.3      0.076   \n",
       "1139            6.8             0.620         0.08             1.9      0.068   \n",
       "1140            6.2             0.600         0.08             2.0      0.090   \n",
       "1141            5.9             0.550         0.10             2.2      0.062   \n",
       "1142            5.9             0.645         0.12             2.0      0.075   \n",
       "\n",
       "      free sulfur dioxide  total sulfur dioxide  density    pH  sulphates  \\\n",
       "0                    11.0                  34.0  0.99780  3.51       0.56   \n",
       "1                    25.0                  67.0  0.99680  3.20       0.68   \n",
       "2                    15.0                  54.0  0.99700  3.26       0.65   \n",
       "3                    17.0                  60.0  0.99800  3.16       0.58   \n",
       "4                    11.0                  34.0  0.99780  3.51       0.56   \n",
       "...                   ...                   ...      ...   ...        ...   \n",
       "1138                 29.0                  40.0  0.99574  3.42       0.75   \n",
       "1139                 28.0                  38.0  0.99651  3.42       0.82   \n",
       "1140                 32.0                  44.0  0.99490  3.45       0.58   \n",
       "1141                 39.0                  51.0  0.99512  3.52       0.76   \n",
       "1142                 32.0                  44.0  0.99547  3.57       0.71   \n",
       "\n",
       "      alcohol  \n",
       "0         9.4  \n",
       "1         9.8  \n",
       "2         9.8  \n",
       "3         9.8  \n",
       "4         9.4  \n",
       "...       ...  \n",
       "1138     11.0  \n",
       "1139      9.5  \n",
       "1140     10.5  \n",
       "1141     11.2  \n",
       "1142     10.2  \n",
       "\n",
       "[1143 rows x 11 columns]"
      ]
     },
     "execution_count": 42,
     "metadata": {},
     "output_type": "execute_result"
    }
   ],
   "source": [
    "x_features"
   ]
  },
  {
   "cell_type": "code",
   "execution_count": 43,
   "id": "ee813586",
   "metadata": {},
   "outputs": [
    {
     "data": {
      "text/plain": [
       "array([[0.24778761, 0.39726027, 0.        , ..., 0.60629921, 0.13772455,\n",
       "        0.15384615],\n",
       "       [0.28318584, 0.52054795, 0.        , ..., 0.36220472, 0.20958084,\n",
       "        0.21538462],\n",
       "       [0.28318584, 0.43835616, 0.04      , ..., 0.40944882, 0.19161677,\n",
       "        0.21538462],\n",
       "       ...,\n",
       "       [0.14159292, 0.32876712, 0.08      , ..., 0.55905512, 0.1497006 ,\n",
       "        0.32307692],\n",
       "       [0.11504425, 0.29452055, 0.1       , ..., 0.61417323, 0.25748503,\n",
       "        0.43076923],\n",
       "       [0.11504425, 0.35958904, 0.12      , ..., 0.65354331, 0.22754491,\n",
       "        0.27692308]])"
      ]
     },
     "execution_count": 43,
     "metadata": {},
     "output_type": "execute_result"
    }
   ],
   "source": [
    "#We can use MinMaxScaler to adjust our features values to the range of (0,1)\n",
    "from sklearn.preprocessing import MinMaxScaler\n",
    "scaler = MinMaxScaler()\n",
    "scaler.fit(x_features)\n",
    "x_features_Scaled = scaler.transform(x_features)\n",
    "x_features_Scaled"
   ]
  },
  {
   "cell_type": "code",
   "execution_count": 44,
   "id": "a5386cc4",
   "metadata": {},
   "outputs": [],
   "source": [
    "from sklearn.linear_model import LogisticRegression\n",
    "from sklearn.metrics import accuracy_score\n",
    "from sklearn.model_selection import train_test_split"
   ]
  },
  {
   "cell_type": "code",
   "execution_count": 45,
   "id": "a6440664",
   "metadata": {},
   "outputs": [],
   "source": [
    "#Lets split the test in 80% train and 20% test\n",
    "x_train, x_test, y_train, y_test = train_test_split(x_features_Scaled, y_target, test_size=0.2)"
   ]
  },
  {
   "cell_type": "code",
   "execution_count": 46,
   "id": "f406c917",
   "metadata": {},
   "outputs": [
    {
     "data": {
      "text/plain": [
       "LogisticRegression(max_iter=100000, multi_class='multinomial')"
      ]
     },
     "execution_count": 46,
     "metadata": {},
     "output_type": "execute_result"
    }
   ],
   "source": [
    "model = LogisticRegression(max_iter=100000, multi_class= \"multinomial\" )\n",
    "model.fit(x_train, y_train)"
   ]
  },
  {
   "cell_type": "code",
   "execution_count": 47,
   "id": "53210ed3",
   "metadata": {},
   "outputs": [
    {
     "data": {
      "text/plain": [
       "0.6244541484716157"
      ]
     },
     "execution_count": 47,
     "metadata": {},
     "output_type": "execute_result"
    }
   ],
   "source": [
    "predictions = model.predict(x_test)\n",
    "from sklearn.metrics import accuracy_score\n",
    "accuracy_score(y_test, predictions)"
   ]
  },
  {
   "cell_type": "code",
   "execution_count": null,
   "id": "7bcb2755",
   "metadata": {},
   "outputs": [],
   "source": []
  }
 ],
 "metadata": {
  "kernelspec": {
   "display_name": "Python 3",
   "language": "python",
   "name": "python3"
  },
  "language_info": {
   "codemirror_mode": {
    "name": "ipython",
    "version": 3
   },
   "file_extension": ".py",
   "mimetype": "text/x-python",
   "name": "python",
   "nbconvert_exporter": "python",
   "pygments_lexer": "ipython3",
   "version": "3.8.8"
  }
 },
 "nbformat": 4,
 "nbformat_minor": 5
}
